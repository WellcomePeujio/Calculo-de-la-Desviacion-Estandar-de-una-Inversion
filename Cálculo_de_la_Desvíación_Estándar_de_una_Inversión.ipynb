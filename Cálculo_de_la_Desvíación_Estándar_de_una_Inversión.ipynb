{
  "nbformat": 4,
  "nbformat_minor": 0,
  "metadata": {
    "colab": {
      "private_outputs": true,
      "provenance": [],
      "authorship_tag": "ABX9TyNsP0CXVILJQcQ0LvHsWUAX",
      "include_colab_link": true
    },
    "kernelspec": {
      "name": "python3",
      "display_name": "Python 3"
    },
    "language_info": {
      "name": "python"
    }
  },
  "cells": [
    {
      "cell_type": "markdown",
      "metadata": {
        "id": "view-in-github",
        "colab_type": "text"
      },
      "source": [
        "<a href=\"https://colab.research.google.com/github/WellcomePeujio/Calculo-de-la-Desviacion-Estandar-de-una-Inversion/blob/main/C%C3%A1lculo_de_la_Desv%C3%ADaci%C3%B3n_Est%C3%A1ndar_de_una_Inversi%C3%B3n.ipynb\" target=\"_parent\"><img src=\"https://colab.research.google.com/assets/colab-badge.svg\" alt=\"Open In Colab\"/></a>"
      ]
    },
    {
      "cell_type": "markdown",
      "source": [
        "# Cálculo del Desvío Estándar de una Inversión\n",
        "\n",
        "\n",
        "Un inversor tiene un portafolio compuesto por dos activos con pesos de 70% y 30%, y desviaciones estándar de 10% y 20%, respectivamente. La correlación entre ambos activos es 0.5.\n",
        "\n",
        "## Preguntas:\n",
        "\n",
        "1. **Calcula la desviación estándar del portafolio.**\n",
        "\n",
        "2. **Discute cómo la correlación afecta el riesgo del portafolio.**"
      ],
      "metadata": {
        "id": "g805LXol3TxY"
      }
    },
    {
      "cell_type": "markdown",
      "source": [
        "# Resolución Matemática: Cálculo del Desvío Estándar de una Inversión\n",
        "\n",
        "## Datos del Problema\n",
        "\n",
        "- **Peso del activo 1 (\\$( w_1 \\$))**: 70% (\\$( 0.70 \\$))\n",
        "- **Peso del activo 2 (\\$( w_2 \\$))**: 30% (\\$( 0.30 \\$))\n",
        "- **Desviación estándar del activo 1 (\\$( \\sigma_1 \\$))**: 10% (\\$( 0.10 \\$))\n",
        "- **Desviación estándar del activo 2 (\\$( \\sigma_2 \\$))**: 20% (\\$( 0.20 \\$))\n",
        "- **Correlación entre los activos (\\$( \\rho \\$))**: 0.5\n",
        "\n",
        "## 1. Cálculo de la Desviación Estándar del Portafolio\n",
        "\n",
        "La desviación estándar del portafolio (\\$( \\sigma_p \\$)) se calcula utilizando la siguiente fórmula:\n",
        "\n",
        "$$\n",
        "\\sigma_p = \\sqrt{w_1^2 \\sigma_1^2 + w_2^2 \\sigma_2^2 + 2 w_1 w_2 \\sigma_1 \\sigma_2 \\rho}\n",
        "$$\n",
        "\n",
        "### Paso 1: Calcular cada término de la fórmula\n",
        "\n",
        "1. **\\$( w_1^2 \\sigma_1^2 \\$)**:\n",
        "   $$\n",
        "   w_1^2 \\sigma_1^2 = (0.70)^2 \\times (0.10)^2 = 0.49 \\times 0.01 = 0.0049\n",
        "   $$\n",
        "\n",
        "2. **\\$( w_2^2 \\sigma_2^2 \\$)**:\n",
        "   $$\n",
        "   w_2^2 \\sigma_2^2 = (0.30)^2 \\times (0.20)^2 = 0.09 \\times 0.04 = 0.0036\n",
        "   $$\n",
        "\n",
        "3. **\\$( 2 w_1 w_2 \\sigma_1 \\sigma_2 \\rho \\$)**:\n",
        "   $$\n",
        "   2 w_1 w_2 \\sigma_1 \\sigma_2 \\rho = 2 \\times 0.70 \\times 0.30 \\times 0.10 \\times 0.20 \\times 0.5 = 0.0042\n",
        "   $$\n",
        "\n",
        "### Paso 2: Sumar los términos y tomar la raíz cuadrada\n",
        "\n",
        "Sumamos todos los términos:\n",
        "\n",
        "$$\n",
        "\\sigma_p^2 = 0.0049 + 0.0036 + 0.0042 = 0.0127\n",
        "$$\n",
        "\n",
        "Finalmente, tomamos la raíz cuadrada para obtener la desviación estándar del portafolio:\n",
        "\n",
        "$$\n",
        "\\sigma_p = \\sqrt{0.0127} \\approx 0.1127 \\text{ o } 11.27\\%\n",
        "$$\n",
        "\n",
        "Por lo tanto, la desviación estándar del portafolio es aproximadamente **11.27%**.\n",
        "\n",
        "## 2. Discusión sobre cómo la correlación afecta el riesgo del portafolio\n",
        "\n",
        "La correlación entre los activos (\\$( \\rho \\$)) juega un papel crucial en la determinación del riesgo total del portafolio. Si la correlación es positiva, como en este caso (\\$( \\rho = 0.5 \\$)), los activos tienden a moverse en la misma dirección, lo que no reduce significativamente el riesgo del portafolio.\n",
        "\n",
        "- Si la correlación fuera más baja o negativa, el efecto diversificador sería mayor, lo que podría reducir la desviación estándar del portafolio.\n",
        "- Por otro lado, una correlación alta o cercana a 1 implica que los activos se mueven de manera muy similar, lo que limita los beneficios de la diversificación y aumenta el riesgo total del portafolio.\n",
        "\n",
        "En resumen, una menor correlación entre los activos puede llevar a una mayor reducción del riesgo del portafolio."
      ],
      "metadata": {
        "id": "fiRncCMF6kuB"
      }
    },
    {
      "cell_type": "code",
      "source": [
        "import numpy as np\n",
        "import matplotlib.pyplot as plt\n",
        "\n",
        "# Datos del problema\n",
        "w1 = 0.70  # Peso del activo 1\n",
        "w2 = 0.30  # Peso del activo 2\n",
        "sigma1 = 0.10  # Desviación estándar del activo 1\n",
        "sigma2 = 0.20  # Desviación estándar del activo 2\n",
        "rho = 0.5  # Correlación entre los activos\n",
        "\n",
        "# Función para calcular la desviación estándar del portafolio\n",
        "def calcular_sigma_portafolio(w1, w2, sigma1, sigma2, rho):\n",
        "    return np.sqrt(w1**2 * sigma1**2 + w2**2 * sigma2**2 + 2 * w1 * w2 * sigma1 * sigma2 * rho)\n",
        "\n",
        "# Cálculo de la desviación estándar del portafolio con la correlación dada\n",
        "sigma_portafolio = calcular_sigma_portafolio(w1, w2, sigma1, sigma2, rho)\n",
        "print(f\"Desviación estándar del portafolio con correlación {rho}: {sigma_portafolio:.4f}\")\n",
        "\n",
        "# Análisis de sensibilidad: Gráfica de la desviación estándar en función de la correlación\n",
        "rho_values = np.linspace(-1, 1, 100)\n",
        "sigma_values = [calcular_sigma_portafolio(w1, w2, sigma1, sigma2, r) for r in rho_values]\n",
        "\n",
        "plt.figure(figsize=(10, 6))\n",
        "plt.plot(rho_values, sigma_values, label='Desviación estándar del portafolio', color='blue')\n",
        "plt.axvline(rho, color='red', linestyle='--', label=f'Correlación actual ({rho})')\n",
        "plt.title('Evolución de la Desviación Estándar del Portafolio según la Correlación')\n",
        "plt.xlabel('Correlación entre los activos (ρ)')\n",
        "plt.ylabel('Desviación Estándar del Portafolio (σ_p)')\n",
        "plt.legend()\n",
        "plt.grid(True)\n",
        "plt.show()"
      ],
      "metadata": {
        "id": "deC9VVWb5C13"
      },
      "execution_count": null,
      "outputs": []
    }
  ]
}